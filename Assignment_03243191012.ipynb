{
  "nbformat": 4,
  "nbformat_minor": 0,
  "metadata": {
    "colab": {
      "name": "Copy of Untitled0.ipynb",
      "provenance": [],
      "collapsed_sections": [],
      "authorship_tag": "ABX9TyPo7ljCyvoC9SQw2VnCSF40",
      "include_colab_link": true
    },
    "kernelspec": {
      "name": "python3",
      "display_name": "Python 3"
    }
  },
  "cells": [
    {
      "cell_type": "markdown",
      "metadata": {
        "id": "view-in-github",
        "colab_type": "text"
      },
      "source": [
        "<a href=\"https://colab.research.google.com/github/yasarnaseer/deeplearning/blob/main/Assignment_03243191012.ipynb\" target=\"_parent\"><img src=\"https://colab.research.google.com/assets/colab-badge.svg\" alt=\"Open In Colab\"/></a>"
      ]
    },
    {
      "cell_type": "code",
      "metadata": {
        "id": "aH9US2oVYAiT",
        "outputId": "2a8e7ddf-1144-4791-91ba-0bcca5c79e80",
        "colab": {
          "base_uri": "https://localhost:8080/"
        }
      },
      "source": [
        "# Use scikit-learn to grid search the batch size and epochs\n",
        "import numpy\n",
        "from sklearn.model_selection import GridSearchCV\n",
        "from keras.models import Sequential\n",
        "from keras.layers import Dense\n",
        "from keras.wrappers.scikit_learn import KerasClassifier\n",
        "# Function to create model, required for KerasClassifier\n",
        "def create_model():\n",
        "\t# create model\n",
        "\tmodel = Sequential()\n",
        "\tmodel.add(Dense(12, input_dim=8, activation='relu'))\n",
        "\tmodel.add(Dense(1, activation='sigmoid'))\n",
        "\t# Compile model\n",
        "\tmodel.compile(loss='binary_crossentropy', optimizer='adam', metrics=['accuracy'])\n",
        "\treturn model\n",
        "# fix random seed for reproducibility\n",
        "seed = 7\n",
        "numpy.random.seed(seed)\n",
        "# load dataset\n",
        "dataset = numpy.loadtxt(\"https://raw.githubusercontent.com/yasarnaseer/deeplearning/main/.github/workflows/PatientChart.csv\", delimiter=\",\")\n",
        "# split into input (X) and output (Y) variables\n",
        "X = dataset[:,0:8]\n",
        "Y = dataset[:,8]\n",
        "# create model\n",
        "model = KerasClassifier(build_fn=create_model, verbose=0)\n",
        "# define the grid search parameters\n",
        "batch_size = [5, 10, 20, 30, 60, 100]\n",
        "epochs = [5, 40, 80]\n",
        "param_grid = dict(batch_size=batch_size, epochs=epochs)\n",
        "grid = GridSearchCV(estimator=model, param_grid=param_grid, n_jobs=-1, cv=3)\n",
        "grid_result = grid.fit(X, Y)\n",
        "# summarize results\n",
        "print(\"Best: %f using %s\" % (grid_result.best_score_, grid_result.best_params_))\n",
        "means = grid_result.cv_results_['mean_test_score']\n",
        "stds = grid_result.cv_results_['std_test_score']\n",
        "params = grid_result.cv_results_['params']\n",
        "for mean, stdev, param in zip(means, stds, params):\n",
        "    print(\"%f (%f) with: %r\" % (mean, stdev, param))\n"
      ],
      "execution_count": 2,
      "outputs": [
        {
          "output_type": "stream",
          "text": [
            "Best: 0.701823 using {'batch_size': 20, 'epochs': 80}\n",
            "0.602865 (0.050463) with: {'batch_size': 5, 'epochs': 5}\n",
            "0.696615 (0.026557) with: {'batch_size': 5, 'epochs': 40}\n",
            "0.700521 (0.015073) with: {'batch_size': 5, 'epochs': 80}\n",
            "0.614583 (0.033804) with: {'batch_size': 10, 'epochs': 5}\n",
            "0.675781 (0.011500) with: {'batch_size': 10, 'epochs': 40}\n",
            "0.694010 (0.011201) with: {'batch_size': 10, 'epochs': 80}\n",
            "0.509115 (0.109808) with: {'batch_size': 20, 'epochs': 5}\n",
            "0.654948 (0.028764) with: {'batch_size': 20, 'epochs': 40}\n",
            "0.701823 (0.009744) with: {'batch_size': 20, 'epochs': 80}\n",
            "0.598958 (0.015073) with: {'batch_size': 30, 'epochs': 5}\n",
            "0.651042 (0.015733) with: {'batch_size': 30, 'epochs': 40}\n",
            "0.643229 (0.027498) with: {'batch_size': 30, 'epochs': 80}\n",
            "0.455729 (0.135629) with: {'batch_size': 60, 'epochs': 5}\n",
            "0.600260 (0.041134) with: {'batch_size': 60, 'epochs': 40}\n",
            "0.651042 (0.013279) with: {'batch_size': 60, 'epochs': 80}\n",
            "0.437500 (0.046329) with: {'batch_size': 100, 'epochs': 5}\n",
            "0.648438 (0.035943) with: {'batch_size': 100, 'epochs': 40}\n",
            "0.621094 (0.026107) with: {'batch_size': 100, 'epochs': 80}\n"
          ],
          "name": "stdout"
        }
      ]
    }
  ]
}